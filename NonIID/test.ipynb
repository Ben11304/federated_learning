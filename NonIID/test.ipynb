{
 "cells": [
  {
   "cell_type": "code",
   "execution_count": 13,
   "metadata": {},
   "outputs": [],
   "source": [
    "from CGan import CGAN"
   ]
  },
  {
   "cell_type": "code",
   "execution_count": 14,
   "metadata": {},
   "outputs": [],
   "source": [
    "import torch"
   ]
  },
  {
   "cell_type": "code",
   "execution_count": 15,
   "metadata": {},
   "outputs": [],
   "source": [
    "import pandas as pd\n",
    "import numpy as np\n",
    "from data_work import processed\n",
    "df=pd.read_csv(\"/Users/mac/Dev/data/dta_IoT/new2test.csv\")\n",
    "#delete all null columns\n",
    "id=[16,17,21,22,23,24]\n",
    "col=df.columns\n",
    "for idx in id:\n",
    "    df=df.drop(col[idx],axis=1)\n",
    "data=processed(df,\"subcategory \")"
   ]
  },
  {
   "cell_type": "code",
   "execution_count": 16,
   "metadata": {},
   "outputs": [],
   "source": [
    "data=torch.tensor(data.values)"
   ]
  },
  {
   "cell_type": "code",
   "execution_count": 21,
   "metadata": {},
   "outputs": [],
   "source": [
    "class Args:\n",
    "    def __init__(self,data):\n",
    "        self.epoch = 100\n",
    "        self.batch_size = 32\n",
    "        self.save_dir = '/Users/mac/Dev/source/article/FerderatedLearning/federated_learning/NonIID/model.h5'\n",
    "        self.result_dir = '/Users/mac/Dev/source/article/FerderatedLearning/federated_learning/NonIID/result.txt'\n",
    "        self.dataset = data\n",
    "        self.log_dir = 'logs/'\n",
    "        self.gpu_mode = True\n",
    "        self.gan_type = 'cGAN'\n",
    "        self.z_dim = 10\n",
    "        self.n_class = 8\n",
    "        self.sample_num = self.n_class ** 2\n",
    "        self.lrG=0.0001\n",
    "        self.lrD=0.0001\n",
    "        self.n_epochs=self.n_class\n",
    "        self.n_classes=self.n_class\n",
    "        self.noise_size=self.z_dim\n",
    "        self.n_features=28"
   ]
  },
  {
   "cell_type": "code",
   "execution_count": 22,
   "metadata": {},
   "outputs": [],
   "source": [
    "arg=Args(data)"
   ]
  },
  {
   "cell_type": "code",
   "execution_count": 23,
   "metadata": {},
   "outputs": [
    {
     "name": "stdout",
     "output_type": "stream",
     "text": [
      "---------- Networks architecture -------------\n",
      "generator(\n",
      "  (label_emb): Embedding(8, 8)\n",
      "  (model): Sequential(\n",
      "    (0): Linear(in_features=18, out_features=128, bias=True)\n",
      "    (1): LeakyReLU(negative_slope=0.2, inplace=True)\n",
      "    (2): Linear(in_features=128, out_features=256, bias=True)\n",
      "    (3): BatchNorm1d(256, eps=0.8, momentum=0.1, affine=True, track_running_stats=True)\n",
      "    (4): LeakyReLU(negative_slope=0.2, inplace=True)\n",
      "    (5): Linear(in_features=256, out_features=512, bias=True)\n",
      "    (6): BatchNorm1d(512, eps=0.8, momentum=0.1, affine=True, track_running_stats=True)\n",
      "    (7): LeakyReLU(negative_slope=0.2, inplace=True)\n",
      "    (8): Linear(in_features=512, out_features=1024, bias=True)\n",
      "    (9): BatchNorm1d(1024, eps=0.8, momentum=0.1, affine=True, track_running_stats=True)\n",
      "    (10): LeakyReLU(negative_slope=0.2, inplace=True)\n",
      "    (11): Linear(in_features=1024, out_features=28, bias=True)\n",
      "  )\n",
      ")\n",
      "Total number of parameters: 724700\n",
      "discriminator(\n",
      "  (label_emb): Embedding(8, 8)\n",
      "  (model): Sequential(\n",
      "    (0): Linear(in_features=36, out_features=512, bias=True)\n",
      "    (1): LeakyReLU(negative_slope=0.2, inplace=True)\n",
      "    (2): Linear(in_features=512, out_features=512, bias=True)\n",
      "    (3): Dropout(p=0.4, inplace=False)\n",
      "    (4): LeakyReLU(negative_slope=0.2, inplace=True)\n",
      "    (5): Linear(in_features=512, out_features=512, bias=True)\n",
      "    (6): Dropout(p=0.4, inplace=False)\n",
      "    (7): LeakyReLU(negative_slope=0.2, inplace=True)\n",
      "    (8): Linear(in_features=512, out_features=1, bias=True)\n",
      "    (9): Sigmoid()\n",
      "  )\n",
      ")\n",
      "Total number of parameters: 544833\n",
      "-----------------------------------------------\n"
     ]
    }
   ],
   "source": [
    "model=CGAN(arg)"
   ]
  },
  {
   "cell_type": "code",
   "execution_count": 24,
   "metadata": {},
   "outputs": [
    {
     "name": "stdout",
     "output_type": "stream",
     "text": [
      "training start!!\n",
      "Epoch: [ 1] [ 219/ 219] D_loss: 0.63036728, G_loss: 0.41709456\n",
      "Epoch: [ 2] [ 219/ 219] D_loss: 0.36010432, G_loss: 0.28910244\n",
      "Epoch: [ 3] [ 219/ 219] D_loss: 0.28963065, G_loss: 0.79813063\n",
      "Epoch: [ 4] [ 219/ 219] D_loss: 0.21105450, G_loss: 0.77397871\n",
      "Epoch: [ 5] [ 219/ 219] D_loss: 0.34882843, G_loss: 0.54422098\n",
      "Epoch: [ 6] [ 219/ 219] D_loss: 0.19258650, G_loss: 0.54119897\n",
      "Epoch: [ 7] [ 219/ 219] D_loss: 0.34128031, G_loss: 0.93518829\n",
      "Epoch: [ 8] [ 219/ 219] D_loss: 0.26155594, G_loss: 0.95756376\n",
      "Epoch: [ 9] [ 219/ 219] D_loss: 0.37072277, G_loss: 0.99992937\n",
      "Epoch: [10] [ 219/ 219] D_loss: 0.28783554, G_loss: 0.63502598\n",
      "Epoch: [11] [ 219/ 219] D_loss: 0.15661618, G_loss: 0.97511274\n",
      "Epoch: [12] [ 219/ 219] D_loss: 0.17437619, G_loss: 0.99998909\n",
      "Epoch: [13] [ 219/ 219] D_loss: 0.30210626, G_loss: 0.99999267\n",
      "Epoch: [14] [ 219/ 219] D_loss: 0.59375000, G_loss: 1.00000000\n",
      "Epoch: [15] [ 219/ 219] D_loss: 0.52690452, G_loss: 1.00000000\n",
      "Epoch: [16] [ 219/ 219] D_loss: 0.08570430, G_loss: 0.99426460\n",
      "Epoch: [17] [ 219/ 219] D_loss: 0.20626080, G_loss: 0.99999690\n",
      "Epoch: [18] [ 219/ 219] D_loss: 0.44132850, G_loss: 0.99915797\n",
      "Epoch: [19] [ 219/ 219] D_loss: 0.21295372, G_loss: 0.75157446\n",
      "Epoch: [20] [ 219/ 219] D_loss: 0.15623559, G_loss: 0.75316906\n",
      "Epoch: [21] [ 219/ 219] D_loss: 0.34384263, G_loss: 1.00000000\n",
      "Epoch: [22] [ 219/ 219] D_loss: 0.30861434, G_loss: 0.62951148\n",
      "Epoch: [23] [ 219/ 219] D_loss: 0.03148913, G_loss: 1.00000000\n",
      "Epoch: [24] [ 219/ 219] D_loss: 0.31249988, G_loss: 0.99999857\n",
      "Epoch: [25] [ 219/ 219] D_loss: 0.26136118, G_loss: 0.99952418\n",
      "Epoch: [26] [ 219/ 219] D_loss: 0.21875003, G_loss: 1.00000000\n",
      "Epoch: [27] [ 219/ 219] D_loss: 0.40559879, G_loss: 1.00000000\n",
      "Epoch: [28] [ 219/ 219] D_loss: 0.35880619, G_loss: 0.71875000\n",
      "Epoch: [29] [ 219/ 219] D_loss: 0.47451532, G_loss: 0.75042892\n",
      "Epoch: [30] [ 219/ 219] D_loss: 0.34375000, G_loss: 0.99851263\n",
      "Epoch: [31] [ 219/ 219] D_loss: 0.12467501, G_loss: 0.96517402\n",
      "Epoch: [32] [ 219/ 219] D_loss: 0.28125000, G_loss: 1.00000000\n",
      "Epoch: [33] [ 219/ 219] D_loss: 0.25000122, G_loss: 1.00000000\n",
      "Epoch: [34] [ 219/ 219] D_loss: 0.50000000, G_loss: 1.00000000\n",
      "Epoch: [35] [ 219/ 219] D_loss: 0.59375000, G_loss: 1.00000000\n",
      "Epoch: [36] [ 219/ 219] D_loss: 0.21870929, G_loss: 0.99999905\n",
      "Epoch: [37] [ 219/ 219] D_loss: 0.38779479, G_loss: 0.84556288\n",
      "Epoch: [38] [ 219/ 219] D_loss: 0.23054193, G_loss: 1.00000000\n",
      "Epoch: [39] [ 219/ 219] D_loss: 0.10755932, G_loss: 0.99999905\n",
      "Epoch: [40] [ 219/ 219] D_loss: 0.03142877, G_loss: 0.99999732\n",
      "Epoch: [41] [ 219/ 219] D_loss: 0.06216986, G_loss: 0.86100972\n",
      "Epoch: [42] [ 219/ 219] D_loss: 0.40284252, G_loss: 0.96666908\n",
      "Epoch: [43] [ 219/ 219] D_loss: 0.19254559, G_loss: 1.00000000\n",
      "Epoch: [44] [ 219/ 219] D_loss: 0.19282109, G_loss: 0.98450553\n",
      "Epoch: [45] [ 219/ 219] D_loss: 0.09263732, G_loss: 0.99999624\n",
      "Epoch: [46] [ 219/ 219] D_loss: 0.12175509, G_loss: 1.00000000\n",
      "Epoch: [47] [ 219/ 219] D_loss: 0.17842907, G_loss: 1.00000000\n",
      "Epoch: [48] [ 219/ 219] D_loss: 0.06729746, G_loss: 0.75156146\n",
      "Epoch: [49] [ 219/ 219] D_loss: 0.06250000, G_loss: 1.00000000\n",
      "Epoch: [50] [ 219/ 219] D_loss: 0.06250000, G_loss: 0.99999976\n",
      "Epoch: [51] [ 219/ 219] D_loss: 0.06250000, G_loss: 1.00000000\n",
      "Epoch: [52] [ 219/ 219] D_loss: 0.03125000, G_loss: 0.99999994\n",
      "Epoch: [53] [ 219/ 219] D_loss: 0.12501110, G_loss: 1.00000000\n",
      "Epoch: [54] [ 219/ 219] D_loss: 0.09375000, G_loss: 1.00000000\n",
      "Epoch: [55] [ 219/ 219] D_loss: 0.18750000, G_loss: 1.00000000\n",
      "Epoch: [56] [ 219/ 219] D_loss: 0.15364093, G_loss: 0.84393543\n",
      "Epoch: [57] [ 219/ 219] D_loss: 0.03086207, G_loss: 0.99699104\n",
      "Epoch: [58] [ 219/ 219] D_loss: 0.03125003, G_loss: 1.00000000\n",
      "Epoch: [59] [ 219/ 219] D_loss: 0.12500376, G_loss: 1.00000000\n",
      "Epoch: [60] [ 219/ 219] D_loss: 0.03124741, G_loss: 0.99999332\n",
      "Epoch: [61] [ 219/ 219] D_loss: 0.08050303, G_loss: 0.85656315\n",
      "Epoch: [62] [ 219/ 219] D_loss: 0.25000000, G_loss: 1.00000000\n",
      "Epoch: [63] [ 219/ 219] D_loss: 0.06250000, G_loss: 1.00000000\n",
      "Epoch: [64] [ 219/ 219] D_loss: 0.25000000, G_loss: 1.00000000\n",
      "Epoch: [65] [ 219/ 219] D_loss: 0.28125000, G_loss: 1.00000000\n",
      "Epoch: [66] [ 219/ 219] D_loss: 0.21645775, G_loss: 1.00000000\n",
      "Epoch: [67] [ 219/ 219] D_loss: 0.09375000, G_loss: 1.00000000\n",
      "Epoch: [68] [ 219/ 219] D_loss: 0.06254236, G_loss: 1.00000000\n",
      "Epoch: [69] [ 219/ 219] D_loss: 0.07587660, G_loss: 0.84375000\n",
      "Epoch: [70] [ 219/ 219] D_loss: 0.28125000, G_loss: 1.00000000\n",
      "Epoch: [71] [ 219/ 219] D_loss: 0.15625000, G_loss: 1.00000000\n",
      "Epoch: [72] [ 219/ 219] D_loss: 0.03124623, G_loss: 1.00000000\n",
      "Epoch: [73] [ 219/ 219] D_loss: 0.25000000, G_loss: 1.00000000\n",
      "Epoch: [74] [ 219/ 219] D_loss: 0.09375000, G_loss: 1.00000000\n",
      "Epoch: [75] [ 219/ 219] D_loss: 0.12500000, G_loss: 1.00000000\n",
      "Epoch: [76] [ 219/ 219] D_loss: 0.05077152, G_loss: 0.90588826\n",
      "Epoch: [77] [ 219/ 219] D_loss: 0.25000000, G_loss: 1.00000000\n",
      "Epoch: [78] [ 219/ 219] D_loss: 0.18771708, G_loss: 0.87467533\n",
      "Epoch: [79] [ 219/ 219] D_loss: 0.31250024, G_loss: 0.87500137\n",
      "Epoch: [80] [ 219/ 219] D_loss: 0.42108154, G_loss: 1.00000000\n",
      "Epoch: [81] [ 219/ 219] D_loss: 0.46259171, G_loss: 1.00000000\n",
      "Epoch: [82] [ 219/ 219] D_loss: 0.35175464, G_loss: 1.00000000\n",
      "Epoch: [83] [ 219/ 219] D_loss: 0.49724364, G_loss: 0.84375000\n",
      "Epoch: [84] [ 219/ 219] D_loss: 0.30085063, G_loss: 1.00000000\n",
      "Epoch: [85] [ 219/ 219] D_loss: 0.26348370, G_loss: 0.87500000\n",
      "Epoch: [86] [ 219/ 219] D_loss: 0.15589020, G_loss: 0.75000000\n",
      "Epoch: [87] [ 219/ 219] D_loss: 0.37500980, G_loss: 1.00000000\n",
      "Epoch: [88] [ 219/ 219] D_loss: 0.28122300, G_loss: 0.78122544\n",
      "Epoch: [89] [ 219/ 219] D_loss: 0.18052894, G_loss: 0.80465645\n",
      "Epoch: [90] [ 219/ 219] D_loss: 0.46863550, G_loss: 1.00000000\n",
      "Epoch: [91] [ 219/ 219] D_loss: 0.37996715, G_loss: 1.00000000\n",
      "Epoch: [92] [ 219/ 219] D_loss: 0.56250393, G_loss: 1.00000000\n",
      "Epoch: [93] [ 219/ 219] D_loss: 0.49998710, G_loss: 1.00000000\n",
      "Epoch: [94] [ 219/ 219] D_loss: 0.56245571, G_loss: 0.99996269\n",
      "Epoch: [95] [ 219/ 219] D_loss: 0.78139794, G_loss: 1.00000000\n",
      "Epoch: [96] [ 219/ 219] D_loss: 0.68759274, G_loss: 1.00000000\n",
      "Epoch: [97] [ 219/ 219] D_loss: 0.49695235, G_loss: 0.99999994\n",
      "Epoch: [98] [ 219/ 219] D_loss: 0.62500000, G_loss: 1.00000000\n",
      "Epoch: [99] [ 219/ 219] D_loss: 0.59375000, G_loss: 1.00000000\n",
      "Epoch: [100] [ 219/ 219] D_loss: 0.56250054, G_loss: 1.00000000\n",
      "Avg one epoch time: 2.48, total 100 epochs time: 247.55\n",
      "Training finish!\n"
     ]
    }
   ],
   "source": [
    "model.train()"
   ]
  },
  {
   "cell_type": "code",
   "execution_count": null,
   "metadata": {},
   "outputs": [],
   "source": []
  }
 ],
 "metadata": {
  "kernelspec": {
   "display_name": "Python 3",
   "language": "python",
   "name": "python3"
  },
  "language_info": {
   "codemirror_mode": {
    "name": "ipython",
    "version": 3
   },
   "file_extension": ".py",
   "mimetype": "text/x-python",
   "name": "python",
   "nbconvert_exporter": "python",
   "pygments_lexer": "ipython3",
   "version": "3.11.4"
  }
 },
 "nbformat": 4,
 "nbformat_minor": 2
}
